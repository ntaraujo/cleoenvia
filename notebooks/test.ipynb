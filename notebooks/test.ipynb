{
 "cells": [
  {
   "cell_type": "code",
   "execution_count": null,
   "metadata": {},
   "outputs": [],
   "source": [
    "a = open('../dist/Cleo Envia.exe.notanexecutable1', 'wb')"
   ]
  },
  {
   "cell_type": "code",
   "execution_count": null,
   "metadata": {},
   "outputs": [],
   "source": [
    "a.write(b'Hello World')"
   ]
  },
  {
   "cell_type": "code",
   "execution_count": null,
   "metadata": {},
   "outputs": [],
   "source": [
    "a.close()"
   ]
  },
  {
   "cell_type": "code",
   "execution_count": null,
   "metadata": {},
   "outputs": [],
   "source": [
    "from PIL import Image\n",
    "\n",
    "def resize_and_save(image_path, output_path, size, format):\n",
    "    with Image.open(image_path) as img:\n",
    "        img = img.resize(size)\n",
    "        img.save(output_path, format=format)\n",
    "\n",
    "image_path = './data/cleoenvia_crop.png'\n",
    "\n",
    "resize_and_save(image_path, '../src/gooey-images/program_icon.png', (416, 412), 'PNG')\n",
    "\n",
    "resize_and_save(image_path, '../src/gooey-images/config_icon.png', (416, 412), 'PNG')\n",
    "\n",
    "resize_and_save(image_path, '../src/gooey-images/program_icon.ico', (32, 32), 'ICO')\n"
   ]
  }
 ],
 "metadata": {
  "kernelspec": {
   "display_name": ".venv",
   "language": "python",
   "name": "python3"
  },
  "language_info": {
   "codemirror_mode": {
    "name": "ipython",
    "version": 3
   },
   "file_extension": ".py",
   "mimetype": "text/x-python",
   "name": "python",
   "nbconvert_exporter": "python",
   "pygments_lexer": "ipython3",
   "version": "3.10.11"
  }
 },
 "nbformat": 4,
 "nbformat_minor": 2
}
