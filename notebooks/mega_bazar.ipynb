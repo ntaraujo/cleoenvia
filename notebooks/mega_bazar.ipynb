{
 "cells": [
  {
   "cell_type": "code",
   "execution_count": null,
   "metadata": {},
   "outputs": [],
   "source": [
    "from csv import DictReader\n",
    "from re import sub\n",
    "from unicodedata import normalize\n",
    "\n",
    "\n",
    "def encode(word):\n",
    "    ascii_name = (\n",
    "        normalize(\"NFKD\", word).encode(\"ascii\", errors=\"ignore\").decode(\"ascii\")\n",
    "    )\n",
    "    return ascii_name.upper()\n",
    "\n",
    "\n",
    "def filter_names(person):\n",
    "    encoded_names = encode(person).split()\n",
    "\n",
    "    return encoded_names[0], (\"MANANCIAL\" in encoded_names) or (\n",
    "        \"PR\" in encoded_names and \"TONINHO\" in encoded_names\n",
    "    ) or (\"ANA\" in encoded_names and \"CHIQUETTI\" in encoded_names)"
   ]
  },
  {
   "cell_type": "code",
   "execution_count": null,
   "metadata": {},
   "outputs": [],
   "source": [
    "contacts = []\n",
    "\n",
    "with open(\"data/contacts_google.csv\", encoding=\"utf-8\") as csv_file:\n",
    "    csv_reader = DictReader(csv_file)\n",
    "    phone_keys = [\n",
    "        key\n",
    "        for key in csv_reader.fieldnames\n",
    "        if \"phone\" in (key_lower := key.lower()) and \"value\" in key_lower\n",
    "    ]\n",
    "\n",
    "    for row in csv_reader:\n",
    "        name = row[\"Name\"]\n",
    "        phones = [\n",
    "            sub(\"[^0-9]\", \"\", num)\n",
    "            for key in phone_keys\n",
    "            if (phone_string := row[key])\n",
    "            for num in phone_string.split(\" ::: \")\n",
    "        ]\n",
    "\n",
    "        if name and phones:\n",
    "            first_name, allow = filter_names(name)\n",
    "            if allow:\n",
    "                contacts.append(\n",
    "                    {\n",
    "                        \"name\": name,\n",
    "                        \"phones\": phones,\n",
    "                        \"first_name\": first_name.capitalize(),\n",
    "                    }\n",
    "                )"
   ]
  },
  {
   "cell_type": "code",
   "execution_count": null,
   "metadata": {},
   "outputs": [],
   "source": [
    "contacts[0][\"first_name\"]"
   ]
  }
 ],
 "metadata": {
  "kernelspec": {
   "display_name": ".venv",
   "language": "python",
   "name": "python3"
  },
  "language_info": {
   "codemirror_mode": {
    "name": "ipython",
    "version": 3
   },
   "file_extension": ".py",
   "mimetype": "text/x-python",
   "name": "python",
   "nbconvert_exporter": "python",
   "pygments_lexer": "ipython3",
   "version": "3.10.11"
  },
  "orig_nbformat": 4
 },
 "nbformat": 4,
 "nbformat_minor": 2
}
