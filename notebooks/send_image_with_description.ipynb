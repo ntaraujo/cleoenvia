{
 "cells": [
  {
   "cell_type": "code",
   "execution_count": null,
   "metadata": {},
   "outputs": [],
   "source": [
    "number_text = \"55119xxxxxxxx\"\n",
    "name_text = \"Anotações\"\n",
    "image_path = r\"C:\\Users\\brrochana1\\Repositories\\cleoenvia\\src\\gooey-images\\config_icon.png\"\n",
    "message = \"Teste 👌\""
   ]
  },
  {
   "cell_type": "code",
   "execution_count": null,
   "metadata": {},
   "outputs": [],
   "source": [
    "from selenium import webdriver\n",
    "from selenium.webdriver.edge.service import Service as EdgeService\n",
    "from selenium.webdriver.common.by import By\n",
    "from selenium.webdriver.support.ui import WebDriverWait\n",
    "from selenium.webdriver.support import expected_conditions as EC\n",
    "from selenium.webdriver.common.action_chains import ActionChains\n",
    "from selenium.webdriver.common.keys import Keys\n",
    "from webdriver_manager.microsoft import EdgeChromiumDriverManager\n",
    "import os\n",
    "import pickle\n",
    "from io import BytesIO\n",
    "import win32clipboard\n",
    "from PIL import Image\n",
    "\n",
    "\n",
    "def send_to_clipboard(data, clip_type=\"text\"):\n",
    "    win32clipboard.OpenClipboard()\n",
    "    try:\n",
    "        win32clipboard.EmptyClipboard()\n",
    "\n",
    "        if clip_type == \"text\":\n",
    "            clip_type = win32clipboard.CF_UNICODETEXT\n",
    "        elif clip_type == \"image\":\n",
    "            clip_type = win32clipboard.CF_DIB\n",
    "        win32clipboard.SetClipboardData(clip_type, data)\n",
    "    finally:\n",
    "        win32clipboard.CloseClipboard()\n",
    "\n",
    "\n",
    "os.environ[\"WDM_SSL_VERIFY\"] = \"false\"\n",
    "\n",
    "notebook_folder = os.path.dirname(os.path.abspath(\"__file__\"))\n",
    "\n",
    "selenium_folder = os.path.join(notebook_folder, \"selenium\")\n",
    "\n",
    "os.makedirs(selenium_folder, exist_ok=True)\n",
    "\n",
    "cookies_file = os.path.join(selenium_folder, \"cookies.pkl\")"
   ]
  },
  {
   "cell_type": "code",
   "execution_count": null,
   "metadata": {},
   "outputs": [],
   "source": [
    "_pillow_image = Image.open(image_path)\n",
    "\n",
    "_bytes_output_image = BytesIO()\n",
    "_pillow_image.convert(\"RGB\").save(_bytes_output_image, \"BMP\")\n",
    "\n",
    "image_data = _bytes_output_image.getvalue()[14:]\n",
    "_bytes_output_image.close()"
   ]
  },
  {
   "cell_type": "code",
   "execution_count": null,
   "metadata": {},
   "outputs": [],
   "source": [
    "options = webdriver.EdgeOptions()\n",
    "options.add_argument(f\"user-data-dir={selenium_folder}\")\n",
    "\n",
    "driver = webdriver.Edge(\n",
    "    service=EdgeService(EdgeChromiumDriverManager().install()), options=options\n",
    ")\n",
    "\n",
    "if os.path.exists(cookies_file):\n",
    "    with open(cookies_file, \"rb\") as f:\n",
    "        cookies = pickle.load(f)\n",
    "        for cookie in cookies:\n",
    "            driver.add_cookie(cookie)\n",
    "\n",
    "actions = ActionChains(driver)"
   ]
  },
  {
   "cell_type": "code",
   "execution_count": null,
   "metadata": {},
   "outputs": [],
   "source": [
    "def check(xpath, operator=None, *other_conditions):\n",
    "    return (\n",
    "        WebDriverWait(driver, 30).until(EC.element_to_be_clickable((By.XPATH, xpath)))\n",
    "        if operator is None\n",
    "        else WebDriverWait(driver, 30).until(\n",
    "            operator(\n",
    "                EC.element_to_be_clickable((By.XPATH, xpath)),\n",
    "                *[\n",
    "                    condition((By.XPATH, xpath), *args, **kwargs)\n",
    "                    for condition, args, kwargs in other_conditions\n",
    "                ],\n",
    "            )\n",
    "        )[0]\n",
    "    )\n",
    "\n",
    "\n",
    "def find_and_click(xpath, operator=None, *other_conditions):\n",
    "    element = check(xpath, operator, *other_conditions)\n",
    "    element.click()\n",
    "    return element"
   ]
  },
  {
   "cell_type": "code",
   "execution_count": null,
   "metadata": {},
   "outputs": [],
   "source": [
    "driver.get(\n",
    "    \"https://web.whatsapp.com\"\n",
    ")  # /send?phone=55119xxxxxxxx&text&source&data&app_absent')"
   ]
  },
  {
   "cell_type": "code",
   "execution_count": null,
   "metadata": {},
   "outputs": [],
   "source": [
    "xpath_search_enter = r'//*[@id=\"side\"]/div[1]/div/div/div[2]'\n",
    "\n",
    "find_and_click(xpath_search_enter)"
   ]
  },
  {
   "cell_type": "code",
   "execution_count": null,
   "metadata": {},
   "outputs": [],
   "source": [
    "xpath_search_input = r'//*[@id=\"side\"]/div[1]/div/div/div[2]/div/div[1]/p'\n",
    "\n",
    "element_search_input = find_and_click(xpath_search_input)"
   ]
  },
  {
   "cell_type": "code",
   "execution_count": null,
   "metadata": {},
   "outputs": [],
   "source": [
    "if input_length := len(element_search_input.text):\n",
    "    actions.send_keys(Keys.BACKSPACE * input_length)\n",
    "    actions.perform()\n",
    "    element_search_input = find_and_click(xpath_search_input)"
   ]
  },
  {
   "cell_type": "code",
   "execution_count": null,
   "metadata": {},
   "outputs": [],
   "source": [
    "xpath_search_input = r'//*[@id=\"side\"]/div[1]/div/div/div[2]/div/div[1]/p'\n",
    "\n",
    "element_search_input = find_and_click(xpath_search_input)"
   ]
  },
  {
   "cell_type": "code",
   "execution_count": null,
   "metadata": {},
   "outputs": [],
   "source": [
    "actions.send_keys_to_element(element_search_input, number_text)\n",
    "actions.perform()"
   ]
  },
  {
   "cell_type": "code",
   "execution_count": null,
   "metadata": {},
   "outputs": [],
   "source": [
    "assert element_search_input.text == number_text"
   ]
  },
  {
   "cell_type": "code",
   "execution_count": null,
   "metadata": {},
   "outputs": [],
   "source": [
    "xpath_contact_result_title = (\n",
    "    f'//*[@id=\"pane-side\"]/div[1]/div/div//span[@title=\"{name_text}\"]'\n",
    ")\n",
    "find_and_click(xpath_contact_result_title)"
   ]
  },
  {
   "cell_type": "code",
   "execution_count": null,
   "metadata": {},
   "outputs": [],
   "source": [
    "xpath_contact_header = r'//*[@id=\"main\"]/header/div[2]/div[1]/div/span[1]'\n",
    "\n",
    "check(\n",
    "    xpath_contact_header,\n",
    "    EC.all_of,\n",
    "    (EC.text_to_be_present_in_element, (name_text,), {}),\n",
    ")"
   ]
  },
  {
   "cell_type": "code",
   "execution_count": null,
   "metadata": {},
   "outputs": [],
   "source": [
    "xpath_input_message_only = (\n",
    "    r'//*[@id=\"main\"]/footer/div[1]/div/span[2]/div/div[2]/div[1]/div/div[1]/p'\n",
    ")\n",
    "\n",
    "element_input_message_only = check(xpath_input_message_only)"
   ]
  },
  {
   "cell_type": "code",
   "execution_count": null,
   "metadata": {},
   "outputs": [],
   "source": [
    "send_to_clipboard(image_data, win32clipboard.CF_DIB)"
   ]
  },
  {
   "cell_type": "code",
   "execution_count": null,
   "metadata": {},
   "outputs": [],
   "source": [
    "element_input_message_only.send_keys(Keys.CONTROL, \"v\")"
   ]
  },
  {
   "cell_type": "code",
   "execution_count": null,
   "metadata": {},
   "outputs": [],
   "source": [
    "xpath_one_image_preview_container = r'//*[@id=\"app\"]/div/div/div[3]/div[2]/span/div/span/div/div/div[2]/div/div[2]/div[1]/div[count(child::*) = 1]'\n",
    "\n",
    "check(xpath_one_image_preview_container)"
   ]
  },
  {
   "cell_type": "code",
   "execution_count": null,
   "metadata": {},
   "outputs": [],
   "source": [
    "xpath_input_image_description = r'//*[@id=\"app\"]/div/div/div[3]/div[2]/span/div/span/div/div/div[2]/div/div[1]/div[3]/div/div/div[2]/div[1]/div[1]/p'\n",
    "\n",
    "element_input_image_description = check(xpath_input_image_description)"
   ]
  },
  {
   "cell_type": "code",
   "execution_count": null,
   "metadata": {},
   "outputs": [],
   "source": [
    "if input_length := len(element_input_image_description.text):\n",
    "    actions.send_keys(Keys.BACKSPACE * input_length)\n",
    "    actions.perform()\n",
    "    element_input_image_description = check(xpath_input_image_description)"
   ]
  },
  {
   "cell_type": "code",
   "execution_count": null,
   "metadata": {},
   "outputs": [],
   "source": [
    "send_to_clipboard(message)"
   ]
  },
  {
   "cell_type": "code",
   "execution_count": null,
   "metadata": {},
   "outputs": [],
   "source": [
    "element_input_image_description.send_keys(Keys.CONTROL, \"v\")"
   ]
  },
  {
   "cell_type": "code",
   "execution_count": null,
   "metadata": {},
   "outputs": [],
   "source": [
    "assert element_input_image_description.text == message"
   ]
  },
  {
   "cell_type": "code",
   "execution_count": null,
   "metadata": {},
   "outputs": [],
   "source": [
    "xpath_send_button = r'//*[@id=\"app\"]/div/div/div[3]/div[2]/span/div/span/div/div/div[2]/div/div[2]/div[2]/div/div'\n",
    "\n",
    "find_and_click(xpath_send_button)"
   ]
  },
  {
   "cell_type": "code",
   "execution_count": null,
   "metadata": {},
   "outputs": [],
   "source": [
    "WebDriverWait(driver, 30).until_not(EC.element_to_be_clickable((By.XPATH, xpath_send_button)))"
   ]
  },
  {
   "cell_type": "code",
   "execution_count": null,
   "metadata": {},
   "outputs": [],
   "source": [
    "with open(cookies_file, \"wb\") as f:\n",
    "    pickle.dump(driver.get_cookies(), f)"
   ]
  }
 ],
 "metadata": {
  "kernelspec": {
   "display_name": ".venv",
   "language": "python",
   "name": "python3"
  },
  "language_info": {
   "codemirror_mode": {
    "name": "ipython",
    "version": 3
   },
   "file_extension": ".py",
   "mimetype": "text/x-python",
   "name": "python",
   "nbconvert_exporter": "python",
   "pygments_lexer": "ipython3",
   "version": "3.10.11"
  },
  "orig_nbformat": 4
 },
 "nbformat": 4,
 "nbformat_minor": 2
}
